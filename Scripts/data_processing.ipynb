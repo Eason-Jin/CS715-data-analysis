{
 "cells": [
  {
   "cell_type": "code",
   "execution_count": 5,
   "id": "07fd1e16",
   "metadata": {},
   "outputs": [],
   "source": [
    "import pandas as pd\n",
    "import os"
   ]
  },
  {
   "cell_type": "code",
   "execution_count": null,
   "id": "0d730203",
   "metadata": {},
   "outputs": [
    {
     "name": "stdout",
     "output_type": "stream",
     "text": [
      "   index               timestamp gender    age  weekly_sport_exercise  \\\n",
      "0      0 2025-10-09 15:42:53.110   Male  21-23                    0.0   \n",
      "1      1 2025-10-09 15:52:44.958   Male  18-20                    0.0   \n",
      "\n",
      "   weekly_strength_training  current_fitness_level  current_strength_level  \\\n",
      "0                       0.0                      3                       2   \n",
      "1                       0.0                      2                       2   \n",
      "\n",
      "   current_tiredness_level  used_cable_machine_before  used_hmd_before  \\\n",
      "0                        4                       True             True   \n",
      "1                        6                      False             True   \n",
      "\n",
      "  hmd_motion_sickness_details  \n",
      "0         No, i am a VR beast  \n",
      "1                          No  \n"
     ]
    }
   ],
   "source": [
    "\n",
    "pre_df = pd.read_excel('../Pre User Study.xlsx')\n",
    "pre_df.rename(columns={ 'Timestamp':'timestamp', \n",
    "                        'What is your gender?': 'gender', \n",
    "                        'What is your age?': 'age', \n",
    "                        'Approximately how many hours a week do you spend playing sports or exercise?': 'weekly_sport_exercise', \n",
    "                        'Approximately how much time per week do you spend strength training?': 'weekly_strength_training',\n",
    "                        'On a scale of 1 to 7, how do you perceive your current level of fitness?': 'current_fitness_level',\n",
    "                        'On a scale of 1 to 7, how do you perceive your current strength level?': 'current_strength_level',\n",
    "                        'On a scale of 1 to 7, how tired do you feel today?': 'current_tiredness_level',\n",
    "                        'Have you used a cable machine before?': 'used_cable_machine_before',\n",
    "                        'Have you used a Head Mounted Display such as the Meta Quest Pro or the Oculus Rift before?': 'used_hmd_before',\n",
    "                        'If you have used a Head Mounted Display before, did you suffer from any form of motion sickness or discomfort? If so, please provide details?': 'hmd_motion_sickness_details',\n",
    "                        }, inplace=True)\n",
    "pre_df['weekly_sport_exercise'] = pre_df['weekly_sport_exercise'].fillna(0)\n",
    "pre_df['weekly_strength_training'] = pre_df['weekly_strength_training'].fillna(0)\n",
    "pre_df['used_cable_machine_before'] = pre_df['used_cable_machine_before'].map({'Yes': True, 'No': False})\n",
    "pre_df['used_hmd_before'] = pre_df['used_hmd_before'].map({'Yes': True, 'No': False})\n",
    "pre_df = pre_df.reset_index(drop=False)\n",
    "print(pre_df)\n",
    "pre_df.to_csv('../ProcessedData/pre_df.csv', index=False)"
   ]
  },
  {
   "cell_type": "code",
   "execution_count": 7,
   "id": "bdddc251",
   "metadata": {},
   "outputs": [],
   "source": [
    "folders = [\n",
    "    '../FishingGame/No Music', '../FishingGame/Non Sync', '../FishingGame/Sync'\n",
    "]\n",
    "\n",
    "for folder in folders:\n",
    "    path = os.path.join(folder, 'Post User Study.xlsx')\n",
    "    post_df = pd.read_excel(path)\n",
    "\n",
    "    post_df = post_df.drop(columns=['Start Date', 'End Date', 'Response Type', 'IP Address', 'Progress', 'Duration (in seconds)', 'Finished', \n",
    "                                    'Response ID', 'Recipient Last Name', 'Recipient First Name', 'Recipient Email', 'External Data Reference', \n",
    "                                    'Location Latitude', 'Location Longitude', 'Distribution Channel', 'User Language'])\n",
    "    post_df.rename(columns={ 'Recorded Date':'timestamp', \n",
    "                            'Please answer the following likert scale questions - I tried very hard on this activity.': 'tried_hard', \n",
    "                            'Please answer the following likert scale questions - This was an activity that I couldn’t do very well. (R)': 'could_not_do_well',\n",
    "                            'Please answer the following likert scale questions - This experience was fun.': 'experience_fun',\n",
    "                            'Please answer the following likert scale questions - I would describe this experience as very interesting.': 'experience_interesting',\n",
    "                            'Please answer the following likert scale questions - During this experience, I was thinking about how much I enjoyed it.': 'enjoyed_experience',\n",
    "                            'Please answer the following likert scale questions - I was pretty skilled at this activity.': 'skilled_at_activity',\n",
    "                            'Please answer the following likert scale questions - I think this is an important activity.': 'important_activity',\n",
    "                            'Please answer the following likert scale questions - I think this is important to do because it can help me enjoy exercising more.': 'enjoy_exercising_more',\n",
    "                            'Please answer the following likert scale questions - It was important to me to do well at during this experience.': 'important_to_do_well',\n",
    "                            'Please answer the following likert scale questions - I thought this was a boring experience. (R)': 'boring_experience',\n",
    "                            'Please answer the following likert scale questions - I would be willing to do this again because it has some value to me.': 'willing_to_do_again',\n",
    "                            'Please answer the following likert scale questions - I think I did pretty well during this experience, compared to other students.': 'did_well_compared_to_others',\n",
    "                            'Please answer the following likert scale questions - I put a lot of effort into this.': 'effort_input',\n",
    "                            'Please answer the following likert scale questions - I believe doing this activity could be beneficial to me.': 'activity_beneficial',\n",
    "                            'Please answer the following likert scale questions - I think that doing this activity is useful for exercising in my spare time.': 'activity_useful',\n",
    "                            'Please answer the following likert scale questions - I am satisfied with my performance at this task.': 'satisfied_with_performance',\n",
    "                            'Please answer the following likert scale questions - I didn’t try very hard to do well at this activity. (R)': 'did_not_try_hard',\n",
    "                            'Please answer the following likert scale questions - I enjoyed this experience very much': 'enjoyed_experience_2',\n",
    "                            'Please answer the following likert scale questions - I think doing this activity could help me to exercise more.': 'help_exercise_more',\n",
    "                            'Please answer the following likert scale questions - I believe this activity could be of some value to me.': 'activity_of_value',\n",
    "                            'Please answer the following likert scale questions - I thought this activity was quite enjoyable.': 'activity_enjoyable',\n",
    "                            'Please answer the following likert scale questions - I think I am pretty good at this activity.': 'good_at_activity',\n",
    "                            'Please answer the following likert scale questions - I didn’t put much energy into this. (R)': 'did_not_put_energy',\n",
    "                            'Please answer the following likert scale questions - This activity did not hold my attention at all. (R)': 'did_not_hold_attention',\n",
    "                            'Please answer the following likert scale questions - After working at this activity for a while, I felt pretty competent.': 'felt_competent',\n",
    "                            'Please rate your exertion based on your breathing rate or breathlessness.': 'exertion'\n",
    "                            }, inplace=True)\n",
    "    post_df = post_df.fillna(0)\n",
    "    post_df = post_df.reset_index(drop=False)\n",
    "    save_path = os.path.join(folder.replace('FishingGame', 'ProcessedData'), 'post_df.csv')\n",
    "    post_df.to_csv(save_path, index=False)"
   ]
  },
  {
   "cell_type": "code",
   "execution_count": null,
   "id": "e0a698aa",
   "metadata": {},
   "outputs": [],
   "source": []
  }
 ],
 "metadata": {
  "kernelspec": {
   "display_name": "Python 3",
   "language": "python",
   "name": "python3"
  },
  "language_info": {
   "codemirror_mode": {
    "name": "ipython",
    "version": 3
   },
   "file_extension": ".py",
   "mimetype": "text/x-python",
   "name": "python",
   "nbconvert_exporter": "python",
   "pygments_lexer": "ipython3",
   "version": "3.11.3"
  }
 },
 "nbformat": 4,
 "nbformat_minor": 5
}
